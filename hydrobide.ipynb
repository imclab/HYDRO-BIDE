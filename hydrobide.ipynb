{
 "metadata": {
  "name": "hydrobide"
 }, 
 "nbformat": 2, 
 "worksheets": [
  {
   "cells": [
    {
     "cell_type": "markdown", 
     "source": [
      "# Without Dormancy: under construction", 
      "", 
      "# Hydrobide: An individual-based community simulation of birth, immigration, death, emigration, and resource limitation in a chemostat environment.", 
      "", 
      "There is 1 source, 1 local community, and 1 outlet. All BIDE processes occur via random sampling, i.e. individuals are picked at random to reproduce, immigrate, etc.", 
      "The model is spatially implicit and individual-based. Information on every individual's Q and species identity is tracked. Resource concentration in the environment is also tracked. ", 
      "", 
      "Some things are dynamic and will vary or arise naturally: Community size (N), composition, demography, cell quota (Q), resource concentration (R),", 
      "nutrient uptake rate, biomass, biomass turnover. Others can remain constant across time: inflow rate (r), Volume (V). R influence resource uptake (v). v influences cell quota Q,", 
      "and Q influences the per capita probability of reproduction. The rates of these processes are typiclally conceived to rely on the following:", 
      "     ", 
      "    GROWTH/REPRODUCTION: mu = mu_max*(1 - Qmin/Q)/(1 - Qmin/Qmax)", 
      "        mu is growth rate", 
      "        mu_max is maximal (nutrient saturated) growth rate", 
      "        Q is the cell quota (nutrient per cell, cannot equal 0)", 
      "        Qmin is the minimal cell quota needed for life", 
      "             ", 
      "    UPTAKE: v/vmax = R/(K+R)  (basically monod)", 
      "        v is the rate of uptake (what we want to know)", 
      "        vmax = maximal rate of uptake", 
      "        R is external resource concentration (which our model tracks)", 
      "        K is the half saturation constant, i.e. value of R when v/vmax = 0.5"
     ]
    }, 
    {
     "cell_type": "markdown", 
     "source": [
      "### Import some modules"
     ]
    }, 
    {
     "cell_type": "code", 
     "collapsed": true, 
     "input": [
      "import sys                                            ", 
      "import  matplotlib.pyplot as plt", 
      "import numpy as np                                    ", 
      "from scipy import stats                                 ", 
      "import random                                           ", 
      "from random import choice, randrange "
     ], 
     "language": "python", 
     "outputs": [], 
     "prompt_number": 73
    }, 
    {
     "cell_type": "markdown", 
     "source": [
      "### Main abiotic constraints of interest (empirical, not tunable): Volume (V), inflow rate (r)    "
     ]
    }, 
    {
     "cell_type": "code", 
     "collapsed": true, 
     "input": [
      "V = 10000.0      # volume                                                                                           ", 
      "r = 100.0        # inflow rate                                                             "
     ], 
     "language": "python", 
     "outputs": [], 
     "prompt_number": 74
    }, 
    {
     "cell_type": "markdown", 
     "source": [
      "### Other empirical constraints, i.e. not tunable"
     ]
    }, 
    {
     "cell_type": "code", 
     "collapsed": true, 
     "input": [
      "R_cons = 0.37  # inflowing resource concentration", 
      "I_cons = 0.36  # propagule concentration of inflowing medium"
     ], 
     "language": "python", 
     "outputs": [], 
     "prompt_number": 75
    }, 
    {
     "cell_type": "markdown", 
     "source": [
      "### Resulting variables"
     ]
    }, 
    {
     "cell_type": "code", 
     "collapsed": true, 
     "input": [
      "I = int(round(I_cons * r)) # propagules immigrating per unit time  ", 
      "R = R_cons # initial resource concentration in the chemostat equals the inflowing concentration", 
      "TR = R*V   # total resources in the local environment"
     ], 
     "language": "python", 
     "outputs": [], 
     "prompt_number": 76
    }, 
    {
     "cell_type": "markdown", 
     "source": [
      "### Tunable biotic constraints ...too many of these and we can draw an elephant"
     ]
    }, 
    {
     "cell_type": "code", 
     "collapsed": true, 
     "input": [
      "K = 1.0     # half saturation constant, i.e. R when v = 0.5", 
      "ma = 0.011   # resources needed for active maintenance"
     ], 
     "language": "python", 
     "outputs": [], 
     "prompt_number": 77
    }, 
    {
     "cell_type": "markdown", 
     "source": [
      "### Declare the community; it will be a list of lists. Declare lists to track community features over time. There can also be lists to track diversity, evenness, etc."
     ]
    }, 
    {
     "cell_type": "code", 
     "collapsed": true, 
     "input": [
      "COM = []", 
      "Nlist = []   # track N", 
      "Rlist = []   # track resource concentration", 
      "TRlist = []  # track total resources"
     ], 
     "language": "python", 
     "outputs": [], 
     "prompt_number": 78
    }, 
    {
     "cell_type": "markdown", 
     "source": [
      "### Declare the number of time steps and the initial number of steps to discard (for burn-in)"
     ]
    }, 
    {
     "cell_type": "code", 
     "collapsed": true, 
     "input": [
      "time = 1000  # length of the experiment", 
      "burnin = int(0.5*time)  # number of initial time steps to discard"
     ], 
     "language": "python", 
     "outputs": [], 
     "prompt_number": 79
    }, 
    {
     "cell_type": "markdown", 
     "source": [
      "# BEGIN THE SIMULATION"
     ]
    }, 
    {
     "cell_type": "code", 
     "collapsed": false, 
     "input": [
      "t = 0", 
      "tlist = []", 
      "while t <= time: ", 
      "    ", 
      "    \"\"\" inflow of resources, Immigration of propagules \"\"\"", 
      "    lgp = 0.70 # arbitrarily set log-series parameter", 
      "    props = np.random.logseries(lgp, I)  # An initial set of propagules; a list of log-series distributed integers.", 
      "                                           # Assume the source community is infinite. Because large communities are", 
      "                                           # approximately log-series distributed (most things are rare and relatively", 
      "                                           # few things are abundant) immigration of propagules will occur in a log-series", 
      "                                           # distributed fashion.", 
      "    for prop in props: ", 
      "        i = [prop, Qmin] # an individual and its cell quota", 
      "        COM.append(i)", 
      "    N = len(COM) # size of the community", 
      "    TR += r * R_cons # Total Resources increase due to inflow", 
      "    R = TR/V # Resource concentration increases due to inflow", 
      "    ", 
      "    \"\"\" Reproduction/Growth/Death \"\"\"", 
      "    random.shuffle(COM) # randomize the community", 
      "    ", 
      "    for i, p in enumerate(COM):  # loop through the randomized community", 
      "        v = R/(K+R)  # uptake (nutrients per cell per day)", 
      "        TR -= v      # total resources decreases", 
      "        R = TR/V     # new resource concentration  ", 
      "        Q = p[1] + v  # increase cell quota by uptake", 
      "        if Q > Qdorm: Q -= ma  # decrease cell quota by resources needed to maintain activity", 
      "        else: Q -= md # decrease cell quota by resources needed to maintain dormancy", 
      "        #print Q", 
      "        COM[i][1] = Q # change the individual's cell quota", 
      "        ", 
      "        if Q >= 1.0: # active, reproducing, i.e. Q reaches or exceeds normalized Qmax", 
      "            COM.append([p[0],Q/2.0]) # individuals produce sister cells with half Q", 
      "            COM[i][1] = Q/2.0          ", 
      "            num_A += 1", 
      "        elif Q > Qdorm: # active, not reproducing", 
      "            num_A += 1", 
      "        elif Q <= Qdorm and Q > 0: # dormant", 
      "            num_D += 1", 
      "        elif Q <= 0: # dead", 
      "            COM.pop(i) # remove the individual", 
      "            num_D -= 1", 
      "    \"\"\" outflow of resources, Emigration \"\"\"", 
      "    num_out = int(round((N/V) * r)) # no. individuals lost per unit time", 
      "    if num_out > 0:", 
      "        ct = 0", 
      "        while ct < num_out:", 
      "            i = randrange(0,len(COM)) # randomly pick an individual", 
      "            if COM[i][1] <= Qdorm: num_D -= 1 # reduce the number of dormant individuals ", 
      "            else: num_A -= 1 # reduce the number of active individuals", 
      "            COM.pop(i) # the individuals dies or emigrates", 
      "            ct+=1", 
      "    N = len(COM) # community size is reduced", 
      "    ", 
      "    \"\"\" recording community info from time-steps \"\"\"", 
      "    if t >= burnin and t%20 == 0: # allow a burn-in and only print/record info every so many steps", 
      "        #print N, num_A, num_D, num_A+num_D, t ", 
      "        \"\"\" the above print statement checks that num_A + num_D = N \"\"\"", 
      "        print 'COM size: ',N, ' portion active: ',round(float(num_A)/N,2),' total resources: ',round(TR,3),' time:',t", 
      "        \"\"\" the above print statement is useful for checking how the community changes as constraint values are changed \"\"\"", 
      "        tlist.append(t)", 
      "        Nlist.append(N) ", 
      "        Alist.append(num_A)", 
      "        Dlist.append(num_D)", 
      "        Rlist.append(R)", 
      "        TRlist.append(TR)", 
      "       ", 
      "    t += 1"
     ], 
     "language": "python", 
     "outputs": [
      {
       "output_type": "stream", 
       "stream": "stdout", 
       "text": [
        "COM size:  3613  portion active:  0.02  total resources:  85.043  time: 500", 
        "COM size: "
       ]
      }, 
      {
       "output_type": "stream", 
       "stream": "stdout", 
       "text": [
        " 3613  portion active:  0.02  total resources:  85.043  time: 520", 
        "COM size: "
       ]
      }, 
      {
       "output_type": "stream", 
       "stream": "stdout", 
       "text": [
        " 3613  portion active:  0.02  total resources:  85.043  time: 540", 
        "COM size: "
       ]
      }, 
      {
       "output_type": "stream", 
       "stream": "stdout", 
       "text": [
        " 3613  portion active:  0.03  total resources:  85.043  time: 560", 
        "COM size: "
       ]
      }, 
      {
       "output_type": "stream", 
       "stream": "stdout", 
       "text": [
        " 3613  portion active:  0.02  total resources:  85.043  time: 580", 
        "COM size: "
       ]
      }, 
      {
       "output_type": "stream", 
       "stream": "stdout", 
       "text": [
        " 3613  portion active:  0.02  total resources:  85.043  time: 600", 
        "COM size: "
       ]
      }, 
      {
       "output_type": "stream", 
       "stream": "stdout", 
       "text": [
        " 3613  portion active:  0.02  total resources:  85.043  time: 620", 
        "COM size: "
       ]
      }, 
      {
       "output_type": "stream", 
       "stream": "stdout", 
       "text": [
        " 3613  portion active:  0.02  total resources:  85.043  time: 640", 
        "COM size: "
       ]
      }, 
      {
       "output_type": "stream", 
       "stream": "stdout", 
       "text": [
        " 3613  portion active:  0.02  total resources:  85.043  time: 660", 
        "COM size: "
       ]
      }, 
      {
       "output_type": "stream", 
       "stream": "stdout", 
       "text": [
        " 3613  portion active:  0.02  total resources:  85.043  time: 680", 
        "COM size: "
       ]
      }, 
      {
       "output_type": "stream", 
       "stream": "stdout", 
       "text": [
        " 3613  portion active:  0.02  total resources:  85.043  time: 700", 
        "COM size: "
       ]
      }, 
      {
       "output_type": "stream", 
       "stream": "stdout", 
       "text": [
        " 3613  portion active:  0.02  total resources:  85.043  time: 720", 
        "COM size: "
       ]
      }, 
      {
       "output_type": "stream", 
       "stream": "stdout", 
       "text": [
        " 3613  portion active:  0.03  total resources:  85.043  time: 740", 
        "COM size: "
       ]
      }, 
      {
       "output_type": "stream", 
       "stream": "stdout", 
       "text": [
        " 3613  portion active:  0.02  total resources:  85.043  time: 760", 
        "COM size: "
       ]
      }, 
      {
       "output_type": "stream", 
       "stream": "stdout", 
       "text": [
        " 3613  portion active:  0.02  total resources:  85.043  time: 780", 
        "COM size: "
       ]
      }, 
      {
       "output_type": "stream", 
       "stream": "stdout", 
       "text": [
        " 3613  portion active:  0.02  total resources:  85.043  time: 800", 
        "COM size: "
       ]
      }, 
      {
       "output_type": "stream", 
       "stream": "stdout", 
       "text": [
        " 3613  portion active:  0.02  total resources:  85.043  time: 820", 
        "COM size: "
       ]
      }, 
      {
       "output_type": "stream", 
       "stream": "stdout", 
       "text": [
        " 3613  portion active:  0.02  total resources:  85.043  time: 840", 
        "COM size: "
       ]
      }, 
      {
       "output_type": "stream", 
       "stream": "stdout", 
       "text": [
        " 3613  portion active:  0.02  total resources:  85.043  time: 860", 
        "COM size: "
       ]
      }, 
      {
       "output_type": "stream", 
       "stream": "stdout", 
       "text": [
        " 3613  portion active:  0.02  total resources:  85.043  time: 880", 
        "COM size: "
       ]
      }, 
      {
       "output_type": "stream", 
       "stream": "stdout", 
       "text": [
        " 3613  portion active:  0.02  total resources:  85.043  time: 900", 
        "COM size: "
       ]
      }, 
      {
       "output_type": "stream", 
       "stream": "stdout", 
       "text": [
        " 3613  portion active:  0.03  total resources:  85.043  time: 920", 
        "COM size: "
       ]
      }, 
      {
       "output_type": "stream", 
       "stream": "stdout", 
       "text": [
        " 3613  portion active:  0.02  total resources:  85.043  time: 940", 
        "COM size: "
       ]
      }, 
      {
       "output_type": "stream", 
       "stream": "stdout", 
       "text": [
        " 3613  portion active:  0.02  total resources:  85.043  time: 960", 
        "COM size: "
       ]
      }, 
      {
       "output_type": "stream", 
       "stream": "stdout", 
       "text": [
        " 3613  portion active:  0.03  total resources:  85.043  time: 980", 
        "COM size: "
       ]
      }, 
      {
       "output_type": "stream", 
       "stream": "stdout", 
       "text": [
        " 3613  portion active:  0.02  total resources:  85.043  time: 1000"
       ]
      }
     ], 
     "prompt_number": 80
    }, 
    {
     "cell_type": "markdown", 
     "source": [
      "### generate figures of change over time"
     ]
    }, 
    {
     "cell_type": "code", 
     "collapsed": false, 
     "input": [
      "fs = 12 # fontsize", 
      "fig = plt.figure(figsize=(11.0,11.0))", 
      "", 
      "ax = fig.add_subplot(2,2,1)", 
      "plt.plot(tlist,Nlist,c='k')", 
      "plt.ylim(0,max(Nlist)+0.1*max(Nlist))", 
      "plt.xlabel(\"time\",fontsize=fs)", 
      "plt.ylabel(\"N\",fontsize=fs)", 
      "", 
      "ax = fig.add_subplot(2,2,2)", 
      "plt.plot(tlist,Alist,c='r',label='active')", 
      "plt.plot(tlist,Dlist,c='b',label='dormant')", 
      "plt.xlabel(\"time\",fontsize=fs)", 
      "plt.ylabel(\"Abundance\",fontsize=fs)", 
      "leg = plt.legend(loc=7,prop={'size':fs})", 
      "leg.draw_frame(False)", 
      "", 
      "ax = fig.add_subplot(2,2,3)", 
      "plt.plot(tlist,Rlist,c='m')", 
      "plt.xlabel(\"time\",fontsize=fs)", 
      "plt.ylabel(\"Resource density\",fontsize=fs)", 
      "", 
      "ax = fig.add_subplot(2,2,4)", 
      "plt.plot(tlist,TRlist,c='g')", 
      "plt.xlabel(\"time\",fontsize=fs)", 
      "plt.ylabel(\"Total resources\",fontsize=fs)", 
      "plt.show"
     ], 
     "language": "python", 
     "outputs": [
      {
       "output_type": "pyout", 
       "prompt_number": 81, 
       "text": [
        "<function matplotlib.pyplot.show>"
       ]
      }, 
      {
       "output_type": "display_data", 
       "png": "[encoded data removed]"
      }
     ], 
     "prompt_number": 81
    }
   ]
  }
 ]
}