{
 "metadata": {
  "name": "hydrobide"
 }, 
 "nbformat": 2, 
 "worksheets": [
  {
   "cells": [
    {
     "cell_type": "markdown", 
     "source": [
      "# Hydrobide: An individual-based community simulation of birth, immigration, death, emigration, resource limitation, and dormancy in a chemostat environment.", 
      "", 
      "There is 1 source, 1 local community, and 1 outlet. All BIDE processes occur via random sampling, i.e. individuals are picked at random to reproduce, immigrate, etc.", 
      "The model is spatially implicit and individual-based. Information on every individual's Q and species identity is tracked. Resource concentration in the environment is also tracked. ", 
      "", 
      "Some things are dynamic and will vary or arise naturally: Community size (N), composition, demography, cell quota (Q), resource concentration (R),", 
      "nutrient uptake rate, biomass, biomass turnover. Others can remain constant across time: inflow rate (r), Volume (V). R influence resource uptake (v). v influences cell quota Q,", 
      "and Q influences the per capita probability of reproduction. The rates of these processes are typiclally conceived to rely on the following:", 
      "     ", 
      "    GROWTH/REPRODUCTION: mu = mu_max*(1 - Qmin/Q)/(1 - Qmin/Qmax)", 
      "        mu is growth rate", 
      "        mu_max is maximal (nutrient saturated) growth rate", 
      "        Q is the cell quota (nutrient per cell, cannot equal 0)", 
      "        Qmin is the minimal cell quota needed for life, replaced by Qdorm in the model", 
      "        note: Qdorm (Q needed for activity)", 
      "             ", 
      "    UPTAKE: v/vmax = R/(K+R)  (basically monod)", 
      "        v is the rate of uptake (what we want to know)", 
      "        vmax = maximal rate of uptake", 
      "        R is external resource concentration (which our model tracks)", 
      "        K is the half saturation constant, i.e. value of R when v/vmax = 0.5"
     ]
    }, 
    {
     "cell_type": "markdown", 
     "source": [
      "### Import some modules"
     ]
    }, 
    {
     "cell_type": "code", 
     "collapsed": true, 
     "input": [
      "import sys                                            ", 
      "import  matplotlib.pyplot as plt", 
      "import numpy as np                                    ", 
      "from scipy import stats                                 ", 
      "import random                                           ", 
      "from random import choice, randrange "
     ], 
     "language": "python", 
     "outputs": [], 
     "prompt_number": 91
    }, 
    {
     "cell_type": "markdown", 
     "source": [
      "### Main abiotic constraints of interest (empirical, not tunable): Volume (V), inflow rate (r)    "
     ]
    }, 
    {
     "cell_type": "code", 
     "collapsed": true, 
     "input": [
      "V = 10000.0      # volume                                                                                           ", 
      "r = 100.0        # influent rate                                                             "
     ], 
     "language": "python", 
     "outputs": [], 
     "prompt_number": 92
    }, 
    {
     "cell_type": "markdown", 
     "source": [
      "### Other empirical constraints, i.e. not tunable"
     ]
    }, 
    {
     "cell_type": "code", 
     "collapsed": true, 
     "input": [
      "R_cons = 0.12 # inflowing resource concentration", 
      "I_cons = 0.1 # propagule concentration of inflowing medium"
     ], 
     "language": "python", 
     "outputs": [], 
     "prompt_number": 93
    }, 
    {
     "cell_type": "markdown", 
     "source": [
      "### Tunable biotic constraints ...too many of these and we can draw an elephant"
     ]
    }, 
    {
     "cell_type": "code", 
     "collapsed": true, 
     "input": [
      "Qdorm = 0.1 # min cell quota; normalized; dormancy threshold", 
      "K = 1.0     # half saturation constant, i.e. R when v = 0.5", 
      "ma = 0.01   # resources needed for active maintenance  ", 
      "md = 0.0001 # resources needed for dormant maintenance"
     ], 
     "language": "python", 
     "outputs": [], 
     "prompt_number": 94
    }, 
    {
     "cell_type": "markdown", 
     "source": [
      "### Additional resulting variables"
     ]
    }, 
    {
     "cell_type": "code", 
     "collapsed": true, 
     "input": [
      "I = int(round(I_cons * r)) # propagules immigrating per unit time  ", 
      "R = R_cons # initial resource concentration in the chemostat equals the inflowing concentration", 
      "TR = R*V   # total resources in the local environment"
     ], 
     "language": "python", 
     "outputs": [], 
     "prompt_number": 95
    }, 
    {
     "cell_type": "markdown", 
     "source": [
      "### Declare the community; it will be a list of lists", 
      "### Lists to track community features over time. There can also be lists to track diversity, evenness, etc."
     ]
    }, 
    {
     "cell_type": "code", 
     "collapsed": true, 
     "input": [
      "COM = []", 
      "Nlist = []   # track N", 
      "Alist = []   # track number of active individuals", 
      "Rlist = []   # track resource concentration", 
      "TRlist = []  # track total resources", 
      "Dlist = []   # track number of dormant individuals"
     ], 
     "language": "python", 
     "outputs": [], 
     "prompt_number": 97
    }, 
    {
     "cell_type": "markdown", 
     "source": [
      "### Declare the number of time steps and the initial number of steps to discard (for burn-in)"
     ]
    }, 
    {
     "cell_type": "code", 
     "collapsed": true, 
     "input": [
      "time = 2000  # length of the experiment", 
      "burnin = int(0.75*time)  # number of initial time steps to discard"
     ], 
     "language": "python", 
     "outputs": [], 
     "prompt_number": 98
    }, 
    {
     "cell_type": "markdown", 
     "source": [
      "# BEGIN THE SIMULATION"
     ]
    }, 
    {
     "cell_type": "code", 
     "collapsed": false, 
     "input": [
      "t = 1", 
      "tlist = []", 
      "while t <= time: ", 
      "    num_A = 0  # number active", 
      "    num_D = 0  # number dormant", 
      "    ", 
      "    \"\"\" inflow of resources, Immigration of propagules \"\"\"", 
      "    lgp = 0.70 # arbitrarily set log-series parameter", 
      "    props = np.random.logseries(lgp, I)  # An initial set of propagules; a list of log-series distributed integers.", 
      "                                           # Assume the source community is infinite. Because large communities are", 
      "                                           # approximately log-series distributed (most things are rare and relatively", 
      "                                           # few things are abundant) immigration of propagules will occur in a log-series", 
      "                                           # distributed fashion.", 
      "    for prop in props: ", 
      "        i = [prop, Qdorm] # an individual and its cell quota", 
      "        COM.append(i)", 
      "    N = len(COM) # size of the community", 
      "    TR += r * R_cons # Total Resources increase due to inflow", 
      "    R = TR/V # Resource concentration increases due to inflow", 
      "    ", 
      "    \"\"\" Reproduction/Growth/Death \"\"\"", 
      "    random.shuffle(COM) # randomize the community", 
      "    ", 
      "    for i, p in enumerate(COM):  # loop through the randomized community", 
      "        v = R/(K+R)  # uptake (nutrients per cell per day)", 
      "        TR -= v      # total resources decreases", 
      "        R = TR/V     # new resource concentration  ", 
      "        Q = p[1] + v  # increase cell quota by uptake", 
      "        if Q > Qdorm: Q -= ma  # decrease cell quota by resources needed to maintain activity", 
      "        else: Q -= md # decrease cell quota by resources needed to maintain dormancy", 
      "        ", 
      "        COM[i][1] = Q # change the individual's cell quota", 
      "        ", 
      "        if Q >= 1.0: # active, reproducing, i.e. Q reaches or exceeds normalized Qmax", 
      "            COM.append([p[0],Q/2.0]) # individuals produce sister cells with half Q", 
      "            COM[i][1] = Q/2.0          ", 
      "            num_A += 1", 
      "        elif Q > Qdorm: # active, not reproducing", 
      "            num_A += 1", 
      "        elif Q <= Qdorm and Q > 0: # dormant", 
      "            num_D += 1", 
      "        elif Q <= 0: # dead", 
      "            COM.pop(i) # remove the individual", 
      "            num_D -= 1", 
      "    \"\"\" outflow of resources, Emigration \"\"\"", 
      "    num_out = int(round((N/V) * r)) # no. individuals lost per unit time", 
      "    if num_out > 0:", 
      "        ct = 0", 
      "        while ct < num_out:", 
      "            i = randrange(0,len(COM)) # randomly pick an individual", 
      "            if COM[i][1] <= Qdorm: num_D -= 1 # reduce the number of dormant individuals ", 
      "            else: num_A -= 1 # reduce the number of active individuals", 
      "            COM.pop(i) # the individuals dies or emigrates", 
      "            ct+=1", 
      "    N = len(COM) # community size is reduced", 
      "    ", 
      "    \"\"\" recording community info from time-steps \"\"\"", 
      "    if t >= burnin and t%20 == 0: # allow a burn-in and only print/record info every so many steps", 
      "        print N, num_A, num_D, num_A+num_D, t ", 
      "        \"\"\" the above print statement checks that num_A + num_D = N \"\"\"", 
      "        #print 'COM size: ',N, ' portion active: ',round(float(num_A)/N,2),' total resources: ',round(TR,3), t", 
      "        \"\"\" the above print statement is useful for checking how the community changes as constraint values are changed \"\"\"", 
      "        tlist.append(t)", 
      "        Nlist.append(N) ", 
      "        Alist.append(num_A)", 
      "        Dlist.append(num_D)", 
      "        Rlist.append(R)", 
      "        TRlist.append(TR)", 
      "       ", 
      "    t += 1"
     ], 
     "language": "python", 
     "outputs": [
      {
       "output_type": "stream", 
       "stream": "stdout", 
       "text": [
        "1039 1039 0 1039 1500", 
        "1039 1039 0 1039 1520", 
        "1039"
       ]
      }, 
      {
       "output_type": "stream", 
       "stream": "stdout", 
       "text": [
        " 1039 0 1039 1540", 
        "1039"
       ]
      }, 
      {
       "output_type": "stream", 
       "stream": "stdout", 
       "text": [
        " 1039 0 1039 1560", 
        "1039"
       ]
      }, 
      {
       "output_type": "stream", 
       "stream": "stdout", 
       "text": [
        " 1039 0 1039 1580", 
        "1039"
       ]
      }, 
      {
       "output_type": "stream", 
       "stream": "stdout", 
       "text": [
        " 1039 0 1039 1600", 
        "1039"
       ]
      }, 
      {
       "output_type": "stream", 
       "stream": "stdout", 
       "text": [
        " 1039 0 1039 1620", 
        "1039"
       ]
      }, 
      {
       "output_type": "stream", 
       "stream": "stdout", 
       "text": [
        " 1039 0 1039 1640", 
        "1039 1039 0 1039 1660", 
        "1039"
       ]
      }, 
      {
       "output_type": "stream", 
       "stream": "stdout", 
       "text": [
        " 1039 0 1039 1680", 
        "1039"
       ]
      }, 
      {
       "output_type": "stream", 
       "stream": "stdout", 
       "text": [
        " 1039 0 1039 1700", 
        "1039"
       ]
      }, 
      {
       "output_type": "stream", 
       "stream": "stdout", 
       "text": [
        " 1039 0 1039 1720", 
        "1039"
       ]
      }, 
      {
       "output_type": "stream", 
       "stream": "stdout", 
       "text": [
        " 1039 0 1039 1740", 
        "1039"
       ]
      }, 
      {
       "output_type": "stream", 
       "stream": "stdout", 
       "text": [
        " 1039 0 1039 1760", 
        "1039"
       ]
      }, 
      {
       "output_type": "stream", 
       "stream": "stdout", 
       "text": [
        " 1039 0 1039 1780", 
        "1039"
       ]
      }, 
      {
       "output_type": "stream", 
       "stream": "stdout", 
       "text": [
        " 1039 0 1039 1800", 
        "1039 1039 0 1039 1820", 
        "1039"
       ]
      }, 
      {
       "output_type": "stream", 
       "stream": "stdout", 
       "text": [
        " 1039 0 1039 1840", 
        "1039"
       ]
      }, 
      {
       "output_type": "stream", 
       "stream": "stdout", 
       "text": [
        " 1039 0 1039 1860", 
        "1039"
       ]
      }, 
      {
       "output_type": "stream", 
       "stream": "stdout", 
       "text": [
        " 1039 0 1039 1880", 
        "1039"
       ]
      }, 
      {
       "output_type": "stream", 
       "stream": "stdout", 
       "text": [
        " 1039 0 1039 1900", 
        "1039"
       ]
      }, 
      {
       "output_type": "stream", 
       "stream": "stdout", 
       "text": [
        " 1039 0 1039 1920", 
        "1039"
       ]
      }, 
      {
       "output_type": "stream", 
       "stream": "stdout", 
       "text": [
        " 1039 0 1039 1940", 
        "1039 1039 0 1039 1960", 
        "1039"
       ]
      }, 
      {
       "output_type": "stream", 
       "stream": "stdout", 
       "text": [
        " 1039 0 1039 1980", 
        "1039"
       ]
      }, 
      {
       "output_type": "stream", 
       "stream": "stdout", 
       "text": [
        " 1039 0 1039 2000"
       ]
      }
     ], 
     "prompt_number": 99
    }, 
    {
     "cell_type": "markdown", 
     "source": [
      "### generate figures of change over time"
     ]
    }, 
    {
     "cell_type": "code", 
     "collapsed": false, 
     "input": [
      "fs = 12 # fontsize", 
      "fig = plt.figure(figsize=(11.0,11.0))", 
      "", 
      "ax = fig.add_subplot(2,2,1)", 
      "plt.plot(tlist,Nlist,c='k')", 
      "plt.ylim(0,max(Nlist)+0.1*max(Nlist))", 
      "plt.xlabel(\"time\",fontsize=fs)", 
      "plt.ylabel(\"N\",fontsize=fs)", 
      "", 
      "ax = fig.add_subplot(2,2,2)", 
      "plt.plot(tlist,Alist,c='r',label='active')", 
      "plt.plot(tlist,Dlist,c='b',label='dormant')", 
      "plt.xlabel(\"time\",fontsize=fs)", 
      "plt.ylabel(\"Abundance\",fontsize=fs)", 
      "leg = plt.legend(loc=7,prop={'size':fs})", 
      "leg.draw_frame(False)", 
      "", 
      "ax = fig.add_subplot(2,2,3)", 
      "plt.plot(tlist,Rlist,c='m')", 
      "plt.xlabel(\"time\",fontsize=fs)", 
      "plt.ylabel(\"Resource density\",fontsize=fs)", 
      "", 
      "ax = fig.add_subplot(2,2,4)", 
      "plt.plot(tlist,TRlist,c='g')", 
      "plt.xlabel(\"time\",fontsize=fs)", 
      "plt.ylabel(\"Total resources\",fontsize=fs)", 
      "plt.show"
     ], 
     "language": "python", 
     "outputs": [
      {
       "output_type": "pyout", 
       "prompt_number": 100, 
       "text": [
        "<function matplotlib.pyplot.show>"
       ]
      }, 
      {
       "output_type": "display_data", 
       "png": "[encoded data removed]"
      }
     ], 
     "prompt_number": 100
    }
   ]
  }
 ]
}