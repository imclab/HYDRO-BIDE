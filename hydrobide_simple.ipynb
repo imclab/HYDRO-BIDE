{
 "metadata": {
  "name": "hydrobide_simple"
 }, 
 "nbformat": 2, 
 "worksheets": [
  {
   "cells": [
    {
     "cell_type": "markdown", 
     "source": [
      "# This is the simplest hydrobide model. It does not include dormancy.", 
      "## It includes resource limited growth, but does not include a parameter for cell maintenance. As a result, cell quota does not decrease; it can only increase. ", 
      "", 
      "# Hydrobide: An individual-based community simulation of birth, immigration, death, emigration, resource limitation in a chemostat environment.", 
      "", 
      "There is 1 source, 1 local community, and 1 outlet. All BIDE processes occur via random sampling, i.e. individuals are picked at random to reproduce, immigrate, etc.", 
      "The model is spatially implicit and individual-based. Information on every individual's Q and species identity is tracked. Resource concentration in the environment is also tracked. ", 
      "", 
      "Some things are dynamic and will vary or arise naturally: Community size (N), composition, demography, cell quota (Q), resource concentration (R),", 
      "nutrient uptake rate, biomass, biomass turnover. Others can remain constant across time: inflow rate (r), Volume (V). R influence resource uptake (v). v influences cell quota Q,", 
      "and Q influences the per capita probability of reproduction. The rates of these processes are typiclally conceived to rely on the following:", 
      "     ", 
      "    GROWTH/REPRODUCTION: mu = mu_max*(1 - Qmin/Q)/(1 - Qmin/Qmax)", 
      "        mu is growth rate", 
      "        mu_max is maximal (nutrient saturated) growth rate", 
      "        Q is the cell quota (nutrient per cell, cannot equal 0)", 
      "        Qmin is the minimal cell quota needed for life", 
      "             ", 
      "    UPTAKE: v/vmax = R/(K+R)  (basically monod)", 
      "        v is the rate of uptake (what we want to know)", 
      "        vmax = maximal rate of uptake", 
      "        R is external resource concentration (which our model tracks)", 
      "        K is the half saturation constant, i.e. value of R when v/vmax = 0.5"
     ]
    }, 
    {
     "cell_type": "markdown", 
     "source": [
      "### Import some modules"
     ]
    }, 
    {
     "cell_type": "code", 
     "collapsed": false, 
     "input": [
      "import sys                                            ", 
      "import  matplotlib.pyplot as plt", 
      "import numpy as np                                    ", 
      "from scipy import stats                                 ", 
      "import random                                           ", 
      "from random import choice, randrange"
     ], 
     "language": "python", 
     "outputs": [], 
     "prompt_number": 217
    }, 
    {
     "cell_type": "markdown", 
     "source": [
      "### Main abiotic constraints of interest (empirical, not tunable): Volume (V), inflow rate (r)    "
     ]
    }, 
    {
     "cell_type": "code", 
     "collapsed": false, 
     "input": [
      "Vs = [100.0, 120.0, 130.0]      # volume                                                                                           "
     ], 
     "language": "python", 
     "outputs": [], 
     "prompt_number": 218
    }, 
    {
     "cell_type": "markdown", 
     "source": [
      "### Other empirical constraints, i.e. not tunable"
     ]
    }, 
    {
     "cell_type": "code", 
     "collapsed": true, 
     "input": [
      "R_cons = 0.4  # inflowing resource concentration", 
      "I_cons = 0.4  # propagule concentration of inflowing medium"
     ], 
     "language": "python", 
     "outputs": [], 
     "prompt_number": 219
    }, 
    {
     "cell_type": "markdown", 
     "source": [
      "### Tunable biotic constraints ...too many of these and we can draw an elephant"
     ]
    }, 
    {
     "cell_type": "code", 
     "collapsed": true, 
     "input": [
      "Qmin = 0.0 # min cell quota"
     ], 
     "language": "python", 
     "outputs": [], 
     "prompt_number": 220
    }, 
    {
     "cell_type": "markdown", 
     "source": [
      "### Declare the number of time steps and the initial number of steps to discard (for burn-in)"
     ]
    }, 
    {
     "cell_type": "code", 
     "collapsed": true, 
     "input": [
      "time = 1000  # length of the experiment", 
      "burnin = int(0.5*time)  # number of initial time steps to discard", 
      "", 
      "Nlists = []", 
      "Rlists = []", 
      "TRlists = []", 
      "TOlists = []", 
      "rlists = []", 
      "REStimes = []", 
      "Srichness = []"
     ], 
     "language": "python", 
     "outputs": [], 
     "prompt_number": 221
    }, 
    {
     "cell_type": "markdown", 
     "source": [
      "# BEGIN THE SIMULATION"
     ]
    }, 
    {
     "cell_type": "code", 
     "collapsed": false, 
     "input": [
      "for V in Vs:", 
      "    rs = range(int(V/20),int(V),int(V/20))", 
      "    rs.reverse()", 
      "    AVGN = []", 
      "    AVGR = []", 
      "    AVGTR = []", 
      "    AVGTO = []", 
      "    AVGS = []", 
      "    REStime = []", 
      "    for r in rs:", 
      "        Q = 0", 
      "        I = int(round(I_cons * r)) # propagules immigrating per unit time  ", 
      "        R = R_cons # initial resource concentration in the chemostat equals the inflowing concentration", 
      "        TR = R*V   # total resources in the local environment", 
      "        t = 0", 
      "        tlist = []", 
      "        COM = [] # the community will be a list of lists", 
      "        Nlist = []   # track N", 
      "        Rlist = []   # track resource concentration", 
      "        TRlist = []  # track total resources", 
      "        TOlist = []", 
      "        Slist = []", 
      "        while t <= time: ", 
      "            _in = I", 
      "            Srich = []", 
      "            \"\"\" inflow of resources, Immigration of propagules \"\"\"", 
      "            lgp = 0.70 # arbitrarily set log-series parameter", 
      "            props = np.random.logseries(lgp, I)  # An initial set of propagules; a list of log-series distributed integers.", 
      "            # Assume the source community is infinite. Because large communities are", 
      "            # approximately log-series distributed (most things are rare and relatively", 
      "            # few things are abundant) immigration of propagules will occur in a log-series", 
      "            # distributed fashion.", 
      "            for prop in props: ", 
      "                Q = 0#float(random.randrange(100))/100 # Q of propagules is a uniform random variable between 0.0 and 1.0", 
      "                i = [prop, Q] # an individual and its cell quota", 
      "                COM.append(i)", 
      "                N = len(COM) # size of the community", 
      "                TR += r * R_cons # Total Resources increase due to inflow", 
      "                R = TR/V # Resource concentration increases due to inflow", 
      "            ", 
      "            \"\"\" Reproduction/Growth/Death \"\"\"", 
      "            random.shuffle(COM) # randomize the community", 
      "            for i, p in enumerate(COM):  # loop through the randomized community", 
      "                v = R/(K+R)  # uptake (nutrients per cell per day)", 
      "                TR -= v      # total resources decreases", 
      "                R = TR/V     # new resource concentration  ", 
      "                Q = p[1] + v  # increase cell quota by uptake", 
      "                COM[i][1] = Q # change the individual's cell quota", 
      "                    ", 
      "                if Q >= 1.0: # active, reproducing, i.e. Q reaches or exceeds normalized Qmax", 
      "                    COM.append([p[0],Q/2.0]) # individuals produce sister cells with half Q", 
      "                    COM[i][1] = Q/2.0", 
      "                    _in += 1", 
      "                   ", 
      "            \"\"\" outflow of resources, Emigration \"\"\"", 
      "            _out = int(round((N/V) * r)) # no. individuals lost per unit time", 
      "            if _out > 0:", 
      "                ct = 0", 
      "                while ct < _out:", 
      "                    i = randrange(0,len(COM)) # randomly pick an individual", 
      "                    COM.pop(i) # the individuals dies or emigrates", 
      "                    ct+=1", 
      "            N = len(COM) # community size is reduced", 
      "            ", 
      "            for i, p in enumerate(COM): # Find species richness", 
      "                Srich.append(p[0])", 
      "            Srich = set(Srich)", 
      "            S = len(Srich)", 
      "            ", 
      "            \"\"\" recording community info from time-steps \"\"\"", 
      "            if t >= burnin: # allow a burn-in and only print/record info every so many steps", 
      "                #print 'Volume',V,'inflow',r,'COM size: ',N,' total resources: ',round(TR,3),' time:',t", 
      "                \"\"\" the above print statement is useful for checking how the community changes as constraint values are changed \"\"\"", 
      "                tlist.append(t)", 
      "                Nlist.append(N) ", 
      "                Rlist.append(R)", 
      "                TRlist.append(TR)", 
      "                Slist.append(S)", 
      "                TOlist.append(abs(_in - _out))", 
      "                #print I,_in,' ',_out,' ',N", 
      "            t+=1", 
      "            ", 
      "        avgN = np.mean(Nlist)", 
      "        AVGN.append(np.log(avgN))", 
      "        print 'V:',V,'r:',r,' avgN:',int(avgN),", 
      "        ", 
      "        avgR = np.mean(Rlist)", 
      "        AVGR.append(avgR)", 
      "        #print ' avgR:',round(avgR,3),", 
      "        ", 
      "        avgTR = np.mean(TRlist)", 
      "        AVGTR.append(avgTR)", 
      "        #print ' avgTR:',round(avgTR,3),", 
      "        ", 
      "        REStime.append(np.log(V/r))", 
      "        print 'RT:',round(V/r,2),", 
      "        ", 
      "        avgTO = np.mean(TOlist)", 
      "        AVGTO.append(avgTO)", 
      "        print ' avgTO:',round(avgTO,2),", 
      "        ", 
      "        avgS = np.mean(Slist)", 
      "        AVGS.append(avgS)", 
      "        print ' avgs:',int(avgS)", 
      "        ", 
      "        ", 
      "    Nlists.append(AVGN)", 
      "    Rlists.append(AVGR)", 
      "    TRlists.append(AVGTR)", 
      "    TOlists.append(AVGTO)", 
      "    rlists.append(rs)", 
      "    REStimes.append(REStime)", 
      "    Srichness.append(AVGS)", 
      "    print len(rs),len(AVGN),len(AVGR),len(AVGTO),len(REStime),len(AVGS) # these lists should have equal lengths"
     ], 
     "language": "python", 
     "outputs": [
      {
       "output_type": "stream", 
       "stream": "stdout", 
       "text": [
        "V: 100.0 r: 95  avgN: 1887 RT: 1.05  avgTO: 8.78  avgs: 9", 
        "V:"
       ]
      }, 
      {
       "output_type": "stream", 
       "stream": "stdout", 
       "text": [
        " 100.0 r: 90  avgN: 1809 RT: 1.11  avgTO: 7.91  avgs: 9", 
        "V:"
       ]
      }, 
      {
       "output_type": "stream", 
       "stream": "stdout", 
       "text": [
        " 100.0 r: 85  avgN: 1733 RT: 1.18  avgTO: 8.16  avgs: 8", 
        "V:"
       ]
      }, 
      {
       "output_type": "stream", 
       "stream": "stdout", 
       "text": [
        " 100.0 r: 80  avgN: 1656 RT: 1.25  avgTO: 7.92  avgs: 8", 
        "V:"
       ]
      }, 
      {
       "output_type": "stream", 
       "stream": "stdout", 
       "text": [
        " 100.0 r: 75  avgN: 1578 RT: 1.33  avgTO: 7.36  avgs: 9", 
        "V:"
       ]
      }, 
      {
       "output_type": "stream", 
       "stream": "stdout", 
       "text": [
        " 100.0 r: 70  avgN: 1497 RT: 1.43  avgTO: 7.67  avgs: 8", 
        "V:"
       ]
      }, 
      {
       "output_type": "stream", 
       "stream": "stdout", 
       "text": [
        " 100.0 r: 65  avgN: 1415 RT: 1.54  avgTO: 7.53  avgs: 8", 
        "V:"
       ]
      }, 
      {
       "output_type": "stream", 
       "stream": "stdout", 
       "text": [
        " 100.0 r: 60  avgN: 1330 RT: 1.67  avgTO: 7.08  avgs: 8", 
        "V:"
       ]
      }, 
      {
       "output_type": "stream", 
       "stream": "stdout", 
       "text": [
        " 100.0 r: 55  avgN: 1242 RT: 1.82  avgTO: 7.58  avgs: 8", 
        "V:"
       ]
      }, 
      {
       "output_type": "stream", 
       "stream": "stdout", 
       "text": [
        " 100.0 r: 50  avgN: 1149 RT: 2.0  avgTO: 7.43  avgs: 8", 
        "V:"
       ]
      }, 
      {
       "output_type": "stream", 
       "stream": "stdout", 
       "text": [
        " 100.0 r: 45  avgN: 1052 RT: 2.22  avgTO: 7.54  avgs: 8", 
        "V:"
       ]
      }, 
      {
       "output_type": "stream", 
       "stream": "stdout", 
       "text": [
        " 100.0 r: 40  avgN: 946 RT: 2.5  avgTO: 6.87  avgs: 8", 
        "V:"
       ]
      }, 
      {
       "output_type": "stream", 
       "stream": "stdout", 
       "text": [
        " 100.0 r: 35  avgN: 835 RT: 2.86  avgTO: 7.24  avgs: 8", 
        "V:"
       ]
      }, 
      {
       "output_type": "stream", 
       "stream": "stdout", 
       "text": [
        " 100.0 r: 30  avgN: 714 RT: 3.33  avgTO: 7.24  avgs: 7", 
        "V:"
       ]
      }, 
      {
       "output_type": "stream", 
       "stream": "stdout", 
       "text": [
        " 100.0 r: 25  avgN: 585 RT: 4.0  avgTO: 8.02  avgs: 7", 
        "V:"
       ]
      }, 
      {
       "output_type": "stream", 
       "stream": "stdout", 
       "text": [
        " 100.0 r: 20  avgN: 462 RT: 5.0  avgTO: 6.61  avgs: 7", 
        "V:"
       ]
      }, 
      {
       "output_type": "stream", 
       "stream": "stdout", 
       "text": [
        " 100.0 r: 15  avgN: 347 RT: 6.67  avgTO: 5.46  avgs: 7", 
        "V:"
       ]
      }, 
      {
       "output_type": "stream", 
       "stream": "stdout", 
       "text": [
        " 100.0 r: 10  avgN: 232 RT: 10.0  avgTO: 3.57  avgs: 7", 
        "V:"
       ]
      }, 
      {
       "output_type": "stream", 
       "stream": "stdout", 
       "text": [
        " 100.0 r: 5  avgN: 126 RT: 20.0  avgTO: 1.76  avgs: 7", 
        "19 19 19 19 19 19", 
        "V:"
       ]
      }, 
      {
       "output_type": "stream", 
       "stream": "stdout", 
       "text": [
        " 120.0 r: 114  avgN: 2690 RT: 1.05  avgTO: 10.04  avgs: 10", 
        "V:"
       ]
      }, 
      {
       "output_type": "stream", 
       "stream": "stdout", 
       "text": [
        " 120.0 r: 108  avgN: 2550 RT: 1.11  avgTO: 9.46  avgs: 10", 
        "V:"
       ]
      }, 
      {
       "output_type": "stream", 
       "stream": "stdout", 
       "text": [
        " 120.0 r: 102  avgN: 2462 RT: 1.18  avgTO: 8.7  avgs: 9", 
        "V:"
       ]
      }, 
      {
       "output_type": "stream", 
       "stream": "stdout", 
       "text": [
        " 120.0 r: 96  avgN: 2320 RT: 1.25  avgTO: 8.66  avgs: 9", 
        "V:"
       ]
      }, 
      {
       "output_type": "stream", 
       "stream": "stdout", 
       "text": [
        " 120.0 r: 90  avgN: 2230 RT: 1.33  avgTO: 8.44  avgs: 10", 
        "V:"
       ]
      }, 
      {
       "output_type": "stream", 
       "stream": "stdout", 
       "text": [
        " 120.0 r: 84  avgN: 2139 RT: 1.43  avgTO: 8.12  avgs: 10", 
        "V:"
       ]
      }, 
      {
       "output_type": "stream", 
       "stream": "stdout", 
       "text": [
        " 120.0 r: 78  avgN: 1990 RT: 1.54  avgTO: 8.56  avgs: 9", 
        "V:"
       ]
      }, 
      {
       "output_type": "stream", 
       "stream": "stdout", 
       "text": [
        " 120.0 r: 72  avgN: 1895 RT: 1.67  avgTO: 8.51  avgs: 9", 
        "V:"
       ]
      }, 
      {
       "output_type": "stream", 
       "stream": "stdout", 
       "text": [
        " 120.0 r: 66  avgN: 1736 RT: 1.82  avgTO: 7.82  avgs: 9", 
        "V:"
       ]
      }, 
      {
       "output_type": "stream", 
       "stream": "stdout", 
       "text": [
        " 120.0 r: 60  avgN: 1631 RT: 2.0  avgTO: 7.98  avgs: 8", 
        "V:"
       ]
      }, 
      {
       "output_type": "stream", 
       "stream": "stdout", 
       "text": [
        " 120.0 r: 54  avgN: 1524 RT: 2.22  avgTO: 7.22  avgs: 9", 
        "V:"
       ]
      }, 
      {
       "output_type": "stream", 
       "stream": "stdout", 
       "text": [
        " 120.0 r: 48  avgN: 1342 RT: 2.5  avgTO: 7.94  avgs: 8", 
        "V:"
       ]
      }, 
      {
       "output_type": "stream", 
       "stream": "stdout", 
       "text": [
        " 120.0 r: 42  avgN: 1213 RT: 2.86  avgTO: 7.68  avgs: 8", 
        "V:"
       ]
      }, 
      {
       "output_type": "stream", 
       "stream": "stdout", 
       "text": [
        " 120.0 r: 36  avgN: 1006 RT: 3.33  avgTO: 8.53  avgs: 7", 
        "V:"
       ]
      }, 
      {
       "output_type": "stream", 
       "stream": "stdout", 
       "text": [
        " 120.0 r: 30  avgN: 854 RT: 4.0  avgTO: 8.31  avgs: 9", 
        "V:"
       ]
      }, 
      {
       "output_type": "stream", 
       "stream": "stdout", 
       "text": [
        " 120.0 r: 24  avgN: 699 RT: 5.0  avgTO: 8.13  avgs: 7", 
        "V:"
       ]
      }, 
      {
       "output_type": "stream", 
       "stream": "stdout", 
       "text": [
        " 120.0 r: 18  avgN: 486 RT: 6.67  avgTO: 5.95  avgs: 8", 
        "V:"
       ]
      }, 
      {
       "output_type": "stream", 
       "stream": "stdout", 
       "text": [
        " 120.0 r: 12  avgN: 350 RT: 10.0  avgTO: 4.2  avgs: 8", 
        "V:"
       ]
      }, 
      {
       "output_type": "stream", 
       "stream": "stdout", 
       "text": [
        " 120.0 r: 6  avgN: 146 RT: 20.0  avgTO: 1.95  avgs: 8", 
        "19 19 19 19 19 19", 
        "V:"
       ]
      }, 
      {
       "output_type": "stream", 
       "stream": "stdout", 
       "text": [
        " 130.0 r: 126  avgN: 3141 RT: 1.03  avgTO: 11.3  avgs: 10", 
        "V:"
       ]
      }, 
      {
       "output_type": "stream", 
       "stream": "stdout", 
       "text": [
        " 130.0 r: 120  avgN: 3040 RT: 1.08  avgTO: 9.06  avgs: 10", 
        "V:"
       ]
      }, 
      {
       "output_type": "stream", 
       "stream": "stdout", 
       "text": [
        " 130.0 r: 114  avgN: 2946 RT: 1.14  avgTO: 9.49  avgs: 10", 
        "V:"
       ]
      }, 
      {
       "output_type": "stream", 
       "stream": "stdout", 
       "text": [
        " 130.0 r: 108  avgN: 2794 RT: 1.2  avgTO: 9.76  avgs: 10", 
        "V:"
       ]
      }, 
      {
       "output_type": "stream", 
       "stream": "stdout", 
       "text": [
        " 130.0 r: 102  avgN: 2697 RT: 1.27  avgTO: 9.39  avgs: 10", 
        "V:"
       ]
      }, 
      {
       "output_type": "stream", 
       "stream": "stdout", 
       "text": [
        " 130.0 r: 96  avgN: 2542 RT: 1.35  avgTO: 9.41  avgs: 9", 
        "V:"
       ]
      }, 
      {
       "output_type": "stream", 
       "stream": "stdout", 
       "text": [
        " 130.0 r: 90  avgN: 2443 RT: 1.44  avgTO: 9.1  avgs: 9", 
        "V:"
       ]
      }, 
      {
       "output_type": "stream", 
       "stream": "stdout", 
       "text": [
        " 130.0 r: 84  avgN: 2343 RT: 1.55  avgTO: 8.34  avgs: 10", 
        "V:"
       ]
      }, 
      {
       "output_type": "stream", 
       "stream": "stdout", 
       "text": [
        " 130.0 r: 78  avgN: 2179 RT: 1.67  avgTO: 7.91  avgs: 9", 
        "V:"
       ]
      }, 
      {
       "output_type": "stream", 
       "stream": "stdout", 
       "text": [
        " 130.0 r: 72  avgN: 2074 RT: 1.81  avgTO: 8.04  avgs: 10", 
        "V:"
       ]
      }, 
      {
       "output_type": "stream", 
       "stream": "stdout", 
       "text": [
        " 130.0 r: 66  avgN: 1899 RT: 1.97  avgTO: 8.53  avgs: 10", 
        "V:"
       ]
      }, 
      {
       "output_type": "stream", 
       "stream": "stdout", 
       "text": [
        " 130.0 r: 60  avgN: 1784 RT: 2.17  avgTO: 7.79  avgs: 9", 
        "V:"
       ]
      }, 
      {
       "output_type": "stream", 
       "stream": "stdout", 
       "text": [
        " 130.0 r: 54  avgN: 1662 RT: 2.41  avgTO: 7.9  avgs: 8", 
        "V:"
       ]
      }, 
      {
       "output_type": "stream", 
       "stream": "stdout", 
       "text": [
        " 130.0 r: 48  avgN: 1461 RT: 2.71  avgTO: 8.34  avgs: 9", 
        "V:"
       ]
      }, 
      {
       "output_type": "stream", 
       "stream": "stdout", 
       "text": [
        " 130.0 r: 42  avgN: 1320 RT: 3.1  avgTO: 7.52  avgs: 9", 
        "V:"
       ]
      }, 
      {
       "output_type": "stream", 
       "stream": "stdout", 
       "text": [
        " 130.0 r: 36  avgN: 1088 RT: 3.61  avgTO: 8.58  avgs: 8", 
        "V:"
       ]
      }, 
      {
       "output_type": "stream", 
       "stream": "stdout", 
       "text": [
        " 130.0 r: 30  avgN: 922 RT: 4.33  avgTO: 8.92  avgs: 8", 
        "V:"
       ]
      }, 
      {
       "output_type": "stream", 
       "stream": "stdout", 
       "text": [
        " 130.0 r: 24  avgN: 755 RT: 5.42  avgTO: 8.02  avgs: 8", 
        "V:"
       ]
      }, 
      {
       "output_type": "stream", 
       "stream": "stdout", 
       "text": [
        " 130.0 r: 18  avgN: 525 RT: 7.22  avgTO: 6.47  avgs: 7", 
        "V:"
       ]
      }, 
      {
       "output_type": "stream", 
       "stream": "stdout", 
       "text": [
        " 130.0 r: 12  avgN: 378 RT: 10.83  avgTO: 4.5  avgs: 7", 
        "V:"
       ]
      }, 
      {
       "output_type": "stream", 
       "stream": "stdout", 
       "text": [
        " 130.0 r: 6  avgN: 159 RT: 21.67  avgTO: 2.08  avgs: 7", 
        "21 21 21 21 21 21"
       ]
      }
     ], 
     "prompt_number": 222
    }, 
    {
     "cell_type": "markdown", 
     "source": [
      "### generate figures of change over time"
     ]
    }, 
    {
     "cell_type": "code", 
     "collapsed": false, 
     "input": [
      "print 'generating figures'", 
      "fig = plt.figure(figsize=(11.0,11.0))", 
      "fs = 12 # fontsize", 
      "colors = ['b','r','g']", 
      "", 
      "ax = fig.add_subplot(2,2,1)", 
      "for i, Nlist in enumerate(Nlists):", 
      "    plt.plot(REStimes[i],Nlist,c=colors[i],label=str(int(Vs[i])))", 
      "    plt.ylim(0,max(Nlist)+0.1*max(Nlist))", 
      "plt.xlabel(\"log Residence time\",fontsize=fs)", 
      "plt.ylabel(\"log(Total abundance)\",fontsize=fs)", 
      "leg = plt.legend(loc=1, prop={'size':12})", 
      "leg.draw_frame(False)", 
      "", 
      "ax = fig.add_subplot(2,2,2)", 
      "for i, Rlist in enumerate(Rlists):", 
      "    plt.plot(REStimes[i],Rlist,c=colors[i],label=str(int(Vs[i])))", 
      "plt.xlabel(\"log Residence time\",fontsize=fs)", 
      "plt.ylabel(\"Resource density\",fontsize=fs)", 
      "leg = plt.legend(loc=1, prop={'size':12})", 
      "leg.draw_frame(False)", 
      "", 
      "ax = fig.add_subplot(2,2,3)", 
      "for i, Slist in enumerate(Srichness):", 
      "    plt.plot(REStimes[i],Slist,c=colors[i],label=str(int(Vs[i])))", 
      "plt.xlabel(\"log Residence time\",fontsize=fs)", 
      "plt.ylabel(\"Species richness\",fontsize=fs)", 
      "leg = plt.legend(loc=1, prop={'size':12})", 
      "leg.draw_frame(False)", 
      "", 
      "ax = fig.add_subplot(2,2,4)", 
      "for i, TOlist in enumerate(TOlists):", 
      "    plt.plot(REStimes[i],TOlist,c=colors[i],label=str(int(Vs[i])))", 
      "plt.xlabel(\"log Residence time\",fontsize=fs)", 
      "plt.ylabel(\"Biomass turnover\",fontsize=fs)", 
      "leg = plt.legend(loc=1, prop={'size':12})", 
      "leg.draw_frame(False)", 
      "", 
      "plt.show"
     ], 
     "language": "python", 
     "outputs": [
      {
       "output_type": "stream", 
       "stream": "stdout", 
       "text": [
        "generating figures"
       ]
      }, 
      {
       "output_type": "pyout", 
       "prompt_number": 223, 
       "text": [
        "<function matplotlib.pyplot.show>"
       ]
      }, 
      {
       "output_type": "display_data", 
       "png": "[encoded data removed]"
      }
     ], 
     "prompt_number": 223
    }, 
    {
     "cell_type": "code", 
     "collapsed": true, 
     "input": [], 
     "language": "python", 
     "outputs": [], 
     "prompt_number": 223
    }
   ]
  }
 ]
}