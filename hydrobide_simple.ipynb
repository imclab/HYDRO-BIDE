{
 "metadata": {
  "name": "hydrobide_simple"
 }, 
 "nbformat": 2, 
 "worksheets": [
  {
   "cells": [
    {
     "cell_type": "markdown", 
     "source": [
      "# This is the simplest hydrobide model. It does not include dormancy.", 
      "## It includes resource limited growth, but does not include a parameter for cell maintenance. As a result, cell quota does not decrease; it can only increase. ", 
      "", 
      "# Hydrobide: An individual-based community simulation of birth, immigration, death, emigration, resource limitation in a chemostat environment.", 
      "", 
      "There is 1 source, 1 local community, and 1 outlet. All BIDE processes occur via random sampling, i.e. individuals are picked at random to reproduce, immigrate, etc.", 
      "The model is spatially implicit and individual-based. Information on every individual's Q and species identity is tracked. Resource concentration in the environment is also tracked. ", 
      "", 
      "Some things are dynamic and will vary or arise naturally: Community size (N), composition, demography, cell quota (Q), resource concentration (R),", 
      "nutrient uptake rate, biomass, biomass turnover. Others can remain constant across time: inflow rate (r), Volume (V). R influence resource uptake (v). v influences cell quota Q,", 
      "and Q influences the per capita probability of reproduction. The rates of these processes are typiclally conceived to rely on the following:", 
      "     ", 
      "    GROWTH/REPRODUCTION: mu = mu_max*(1 - Qmin/Q)/(1 - Qmin/Qmax)", 
      "        mu is growth rate", 
      "        mu_max is maximal (nutrient saturated) growth rate", 
      "        Q is the cell quota (nutrient per cell, cannot equal 0)", 
      "        Qmin is the minimal cell quota needed for life", 
      "             ", 
      "    UPTAKE: v/vmax = R/(K+R)  (basically monod)", 
      "        v is the rate of uptake (what we want to know)", 
      "        vmax = maximal rate of uptake", 
      "        R is external resource concentration (which our model tracks)", 
      "        K is the half saturation constant, i.e. value of R when v/vmax = 0.5"
     ]
    }, 
    {
     "cell_type": "markdown", 
     "source": [
      "### Import some modules"
     ]
    }, 
    {
     "cell_type": "code", 
     "collapsed": true, 
     "input": [
      "import sys                                            ", 
      "import  matplotlib.pyplot as plt", 
      "import numpy as np                                    ", 
      "from scipy import stats                                 ", 
      "import random                                           ", 
      "from random import choice, randrange"
     ], 
     "language": "python", 
     "outputs": [], 
     "prompt_number": 70
    }, 
    {
     "cell_type": "markdown", 
     "source": [
      "### Main abiotic constraints of interest (empirical, not tunable): Volume (V), inflow rate (r)    "
     ]
    }, 
    {
     "cell_type": "code", 
     "collapsed": true, 
     "input": [
      "Vs = [100.0, 200.0, 300.0]      # volume                                                                                           ", 
      "rs = [10.0, 100.0]        # inflow rate ", 
      "ERTs = [] # ecosystem residence times", 
      "DRs = [] # dilution rates", 
      "for V in Vs:", 
      "    for r in rs:", 
      "        ERTs.append(V/r)", 
      "        DRs.append(r/V)"
     ], 
     "language": "python", 
     "outputs": [], 
     "prompt_number": 71
    }, 
    {
     "cell_type": "markdown", 
     "source": [
      "### Other empirical constraints, i.e. not tunable"
     ]
    }, 
    {
     "cell_type": "code", 
     "collapsed": true, 
     "input": [
      "R_cons = 0.37  # inflowing resource concentration", 
      "I_cons = 0.36  # propagule concentration of inflowing medium"
     ], 
     "language": "python", 
     "outputs": [], 
     "prompt_number": 72
    }, 
    {
     "cell_type": "markdown", 
     "source": [
      "### Tunable biotic constraints ...too many of these and we can draw an elephant"
     ]
    }, 
    {
     "cell_type": "code", 
     "collapsed": true, 
     "input": [
      "Qmin = 0.0 # min cell quota", 
      "K = 1.0 # half saturation constant"
     ], 
     "language": "python", 
     "outputs": [], 
     "prompt_number": 73
    }, 
    {
     "cell_type": "markdown", 
     "source": [
      "### Declare the number of time steps and the initial number of steps to discard (for burn-in)"
     ]
    }, 
    {
     "cell_type": "code", 
     "collapsed": true, 
     "input": [
      "time = 1000  # length of the experiment", 
      "burnin = int(0.5*time)  # number of initial time steps to discard", 
      "", 
      "Nlists = []", 
      "Rlists = []", 
      "TRlists = []"
     ], 
     "language": "python", 
     "outputs": [], 
     "prompt_number": 74
    }, 
    {
     "cell_type": "markdown", 
     "source": [
      "# BEGIN THE SIMULATION"
     ]
    }, 
    {
     "cell_type": "code", 
     "collapsed": false, 
     "input": [
      "for V in Vs:", 
      "    for r in rs:", 
      "        Q = 0", 
      "        I = int(round(I_cons * r)) # propagules immigrating per unit time  ", 
      "        R = R_cons # initial resource concentration in the chemostat equals the inflowing concentration", 
      "        TR = R*V   # total resources in the local environment", 
      "        t = 0", 
      "        tlist = []", 
      "        COM = [] # the community will be a list of lists", 
      "        Nlist = []   # track N", 
      "        Rlist = []   # track resource concentration", 
      "        TRlist = []  # track total resources", 
      "        while t <= time: ", 
      "            \"\"\" inflow of resources, Immigration of propagules \"\"\"", 
      "            lgp = 0.70 # arbitrarily set log-series parameter", 
      "            props = np.random.logseries(lgp, I)  # An initial set of propagules; a list of log-series distributed integers.", 
      "            # Assume the source community is infinite. Because large communities are", 
      "            # approximately log-series distributed (most things are rare and relatively", 
      "            # few things are abundant) immigration of propagules will occur in a log-series", 
      "            # distributed fashion.", 
      "            for prop in props: ", 
      "                Q = float(random.randrange(100))/100 # Q of propagules is a uniform random variable between 0.0 and 1.0", 
      "                i = [prop, Q] # an individual and its cell quota", 
      "                COM.append(i)", 
      "                N = len(COM) # size of the community", 
      "                TR += r * R_cons # Total Resources increase due to inflow", 
      "                R = TR/V # Resource concentration increases due to inflow", 
      "                ", 
      "                \"\"\" Reproduction/Growth/Death \"\"\"", 
      "                random.shuffle(COM) # randomize the community", 
      "                for i, p in enumerate(COM):  # loop through the randomized community", 
      "                    v = R/(K+R)  # uptake (nutrients per cell per day)", 
      "                    TR -= v      # total resources decreases", 
      "                    R = TR/V     # new resource concentration  ", 
      "                    Q = p[1] + v  # increase cell quota by uptake", 
      "                    COM[i][1] = Q # change the individual's cell quota", 
      "                    ", 
      "                    if Q >= 1.0: # active, reproducing, i.e. Q reaches or exceeds normalized Qmax", 
      "                        COM.append([p[0],Q/2.0]) # individuals produce sister cells with half Q", 
      "                        COM[i][1] = Q/2.0          ", 
      "                    elif Q <= 0: # dead", 
      "                        COM.pop(i) # remove the individual", 
      "                            ", 
      "                \"\"\" outflow of resources, Emigration \"\"\"", 
      "                num_out = int(round((N/V) * r)) # no. individuals lost per unit time", 
      "                if num_out > 0:", 
      "                    ct = 0", 
      "                    while ct < num_out:", 
      "                        i = randrange(0,len(COM)) # randomly pick an individual", 
      "                        COM.pop(i) # the individuals dies or emigrates", 
      "                        ct+=1", 
      "            N = len(COM) # community size is reduced", 
      "            ", 
      "            \"\"\" recording community info from time-steps \"\"\"", 
      "            if t >= burnin and t%20 == 0: # allow a burn-in and only print/record info every so many steps", 
      "                print 'Volume',V,'inflow',r,'COM size: ',N,' total resources: ',round(TR,3),' time:',t", 
      "                \"\"\" the above print statement is useful for checking how the community changes as constraint values are changed \"\"\"", 
      "                tlist.append(t)", 
      "                Nlist.append(N) ", 
      "                Rlist.append(R)", 
      "                TRlist.append(TR)", 
      "        ", 
      "            t+=1", 
      "            ", 
      "        Nlists.append(Nlist)", 
      "        Rlists.append(Rlist)", 
      "        TRlists.append(TRlist)    "
     ], 
     "language": "python", 
     "outputs": [
      {
       "output_type": "stream", 
       "stream": "stdout", 
       "text": [
        "Volume 100.0 inflow 10.0 COM size:  59  total resources:  4.416  time: 500", 
        "Volume 100.0 inflow 10.0 COM size:  56  total resources:  4.67  time: 520", 
        "Volume 100.0 inflow 10.0 COM size:  58  total resources:  4.26  time: 540", 
        "Volume 100.0 inflow 10.0 COM size:  55  total resources:  4.835  time: 560", 
        "Volume"
       ]
      }, 
      {
       "output_type": "stream", 
       "stream": "stdout", 
       "text": [
        " 100.0 inflow 10.0 COM size:  52  total resources:  5.073  time: 580", 
        "Volume 100.0 inflow 10.0 COM size:  53  total resources:  4.826  time: 600", 
        "Volume 100.0 inflow 10.0 COM size:  60  total resources:  4.343  time: 620", 
        "Volume 100.0 inflow 10.0 COM size:  53  total resources:  4.784  time: 640", 
        "Volume"
       ]
      }, 
      {
       "output_type": "stream", 
       "stream": "stdout", 
       "text": [
        " 100.0 inflow 10.0 COM size:  58  total resources:  4.589  time: 660", 
        "Volume 100.0 inflow 10.0 COM size:  60  total resources:  4.312  time: 680", 
        "Volume 100.0 inflow 10.0 COM size:  56  total resources:  4.493  time: 700", 
        "Volume 100.0 inflow 10.0 COM size:  58  total resources:  4.509  time: 720", 
        "Volume"
       ]
      }, 
      {
       "output_type": "stream", 
       "stream": "stdout", 
       "text": [
        " 100.0 inflow 10.0 COM size:  61  total resources:  4.291  time: 740", 
        "Volume 100.0 inflow 10.0 COM size:  53  total resources:  4.834  time: 760", 
        "Volume 100.0 inflow 10.0 COM size:  58  total resources:  4.738  time: 780", 
        "Volume 100.0 inflow 10.0 COM size:  58  total resources:  4.609  time: 800", 
        "Volume"
       ]
      }, 
      {
       "output_type": "stream", 
       "stream": "stdout", 
       "text": [
        " 100.0 inflow 10.0 COM size:  54  total resources:  4.808  time: 820", 
        "Volume 100.0 inflow 10.0 COM size:  57  total resources:  4.778  time: 840", 
        "Volume 100.0 inflow 10.0 COM size:  58  total resources:  4.324  time: 860", 
        "Volume 100.0 inflow 10.0 COM size:  53  total resources:  4.747  time: 880", 
        "Volume"
       ]
      }, 
      {
       "output_type": "stream", 
       "stream": "stdout", 
       "text": [
        " 100.0 inflow 10.0 COM size:  55  total resources:  4.641  time: 900", 
        "Volume 100.0 inflow 10.0 COM size:  52  total resources:  4.912  time: 920", 
        "Volume 100.0 inflow 10.0 COM size:  53  total resources:  4.706  time: 940", 
        "Volume 100.0 inflow 10.0 COM size:  62  total resources:  4.363  time: 960", 
        "Volume 100.0 inflow 10.0 COM size:  58  total resources:  4.568  time: 980", 
        "Volume"
       ]
      }, 
      {
       "output_type": "stream", 
       "stream": "stdout", 
       "text": [
        " 100.0 inflow 10.0 COM size:  53  total resources:  4.629  time: 1000", 
        "Volume"
       ]
      }, 
      {
       "output_type": "stream", 
       "stream": "stdout", 
       "text": [
        " 100.0 inflow 100.0 COM size:  49  total resources:  40.503  time: 500", 
        "Volume"
       ]
      }, 
      {
       "output_type": "stream", 
       "stream": "stdout", 
       "text": [
        " 100.0 inflow 100.0 COM size:  54  total resources:  43.948  time: 520", 
        "Volume"
       ]
      }, 
      {
       "output_type": "stream", 
       "stream": "stdout", 
       "text": [
        " 100.0 inflow 100.0 COM size:  48  total resources:  40.327  time: 540", 
        "Volume"
       ]
      }, 
      {
       "output_type": "stream", 
       "stream": "stdout", 
       "text": [
        " 100.0 inflow 100.0 COM size:  52  total resources:  44.548  time: 560", 
        "Volume"
       ]
      }, 
      {
       "output_type": "stream", 
       "stream": "stdout", 
       "text": [
        " 100.0 inflow 100.0 COM size:  48  total resources:  43.978  time: 580", 
        "Volume"
       ]
      }, 
      {
       "output_type": "stream", 
       "stream": "stdout", 
       "text": [
        " 100.0 inflow 100.0 COM size:  51  total resources:  43.898  time: 600", 
        "Volume"
       ]
      }, 
      {
       "output_type": "stream", 
       "stream": "stdout", 
       "text": [
        " 100.0 inflow 100.0 COM size:  53  total resources:  42.739  time: 620", 
        "Volume"
       ]
      }, 
      {
       "output_type": "stream", 
       "stream": "stdout", 
       "text": [
        " 100.0 inflow 100.0 COM size:  49  total resources:  42.489  time: 640", 
        "Volume"
       ]
      }, 
      {
       "output_type": "stream", 
       "stream": "stdout", 
       "text": [
        " 100.0 inflow 100.0 COM size:  58  total resources:  42.505  time: 660", 
        "Volume"
       ]
      }, 
      {
       "output_type": "stream", 
       "stream": "stdout", 
       "text": [
        " 100.0 inflow 100.0 COM size:  50  total resources:  42.365  time: 680", 
        "Volume"
       ]
      }, 
      {
       "output_type": "stream", 
       "stream": "stdout", 
       "text": [
        " 100.0 inflow 100.0 COM size:  51  total resources:  40.93  time: 700", 
        "Volume"
       ]
      }, 
      {
       "output_type": "stream", 
       "stream": "stdout", 
       "text": [
        " 100.0 inflow 100.0 COM size:  39  total resources:  45.397  time: 720", 
        "Volume"
       ]
      }, 
      {
       "output_type": "stream", 
       "stream": "stdout", 
       "text": [
        " 100.0 inflow 100.0 COM size:  51  total resources:  47.341  time: 740", 
        "Volume"
       ]
      }, 
      {
       "output_type": "stream", 
       "stream": "stdout", 
       "text": [
        " 100.0 inflow 100.0 COM size:  47  total resources:  44.323  time: 760", 
        "Volume"
       ]
      }, 
      {
       "output_type": "stream", 
       "stream": "stdout", 
       "text": [
        " 100.0 inflow 100.0 COM size:  53  total resources:  42.977  time: 780", 
        "Volume"
       ]
      }, 
      {
       "output_type": "stream", 
       "stream": "stdout", 
       "text": [
        " 100.0 inflow 100.0 COM size:  48  total resources:  41.001  time: 800", 
        "Volume"
       ]
      }, 
      {
       "output_type": "stream", 
       "stream": "stdout", 
       "text": [
        " 100.0 inflow 100.0 COM size:  50  total resources:  42.695  time: 820", 
        "Volume"
       ]
      }, 
      {
       "output_type": "stream", 
       "stream": "stdout", 
       "text": [
        " 100.0 inflow 100.0 COM size:  53  total resources:  41.852  time: 840", 
        "Volume"
       ]
      }, 
      {
       "output_type": "stream", 
       "stream": "stdout", 
       "text": [
        " 100.0 inflow 100.0 COM size:  58  total resources:  39.538  time: 860", 
        "Volume"
       ]
      }, 
      {
       "output_type": "stream", 
       "stream": "stdout", 
       "text": [
        " 100.0 inflow 100.0 COM size:  51  total resources:  46.997  time: 880", 
        "Volume"
       ]
      }, 
      {
       "output_type": "stream", 
       "stream": "stdout", 
       "text": [
        " 100.0 inflow 100.0 COM size:  55  total resources:  42.395  time: 900", 
        "Volume"
       ]
      }, 
      {
       "output_type": "stream", 
       "stream": "stdout", 
       "text": [
        " 100.0 inflow 100.0 COM size:  46  total resources:  42.62  time: 920", 
        "Volume"
       ]
      }, 
      {
       "output_type": "stream", 
       "stream": "stdout", 
       "text": [
        " 100.0 inflow 100.0 COM size:  44  total resources:  44.163  time: 940", 
        "Volume"
       ]
      }, 
      {
       "output_type": "stream", 
       "stream": "stdout", 
       "text": [
        " 100.0 inflow 100.0 COM size:  45  total resources:  43.893  time: 960", 
        "Volume"
       ]
      }, 
      {
       "output_type": "stream", 
       "stream": "stdout", 
       "text": [
        " 100.0 inflow 100.0 COM size:  49  total resources:  42.508  time: 980", 
        "Volume"
       ]
      }, 
      {
       "output_type": "stream", 
       "stream": "stdout", 
       "text": [
        " 100.0 inflow 100.0 COM size:  47  total resources:  40.343  time: 1000", 
        "Volume"
       ]
      }, 
      {
       "output_type": "stream", 
       "stream": "stdout", 
       "text": [
        " 200.0 inflow 10.0 COM size:  126  total resources:  4.186  time: 500", 
        "Volume 200.0 inflow 10.0 COM size:  120  total resources:  4.362  time: 520", 
        "Volume 200.0 inflow 10.0 COM size:  121  total resources:  4.427  time: 540", 
        "Volume"
       ]
      }, 
      {
       "output_type": "stream", 
       "stream": "stdout", 
       "text": [
        " 200.0 inflow 10.0 COM size:  117  total resources:  4.524  time: 560", 
        "Volume 200.0 inflow 10.0 COM size:  113  total resources:  4.552  time: 580", 
        "Volume 200.0 inflow 10.0 COM size:  117  total resources:  4.536  time: 600", 
        "Volume"
       ]
      }, 
      {
       "output_type": "stream", 
       "stream": "stdout", 
       "text": [
        " 200.0 inflow 10.0 COM size:  118  total resources:  4.611  time: 620", 
        "Volume 200.0 inflow 10.0 COM size:  119  total resources:  4.538  time: 640", 
        "Volume 200.0 inflow 10.0 COM size:  119  total resources:  4.502  time: 660", 
        "Volume"
       ]
      }, 
      {
       "output_type": "stream", 
       "stream": "stdout", 
       "text": [
        " 200.0 inflow 10.0 COM size:  121  total resources:  4.483  time: 680", 
        "Volume 200.0 inflow 10.0 COM size:  109  total resources:  5.007  time: 700", 
        "Volume 200.0 inflow 10.0 COM size:  115  total resources:  4.676  time: 720", 
        "Volume"
       ]
      }, 
      {
       "output_type": "stream", 
       "stream": "stdout", 
       "text": [
        " 200.0 inflow 10.0 COM size:  111  total resources:  4.997  time: 740", 
        "Volume 200.0 inflow 10.0 COM size:  112  total resources:  4.867  time: 760", 
        "Volume 200.0 inflow 10.0 COM size:  120  total resources:  4.396  time: 780", 
        "Volume"
       ]
      }, 
      {
       "output_type": "stream", 
       "stream": "stdout", 
       "text": [
        " 200.0 inflow 10.0 COM size:  118  total resources:  4.763  time: 800", 
        "Volume 200.0 inflow 10.0 COM size:  113  total resources:  4.677  time: 820", 
        "Volume 200.0 inflow 10.0 COM size:  108  total resources:  5.0  time: 840", 
        "Volume"
       ]
      }, 
      {
       "output_type": "stream", 
       "stream": "stdout", 
       "text": [
        " 200.0 inflow 10.0 COM size:  111  total resources:  4.938  time: 860", 
        "Volume 200.0 inflow 10.0 COM size:  112  total resources:  4.821  time: 880", 
        "Volume 200.0 inflow 10.0 COM size:  117  total resources:  4.721  time: 900", 
        "Volume"
       ]
      }, 
      {
       "output_type": "stream", 
       "stream": "stdout", 
       "text": [
        " 200.0 inflow 10.0 COM size:  119  total resources:  4.691  time: 920", 
        "Volume 200.0 inflow 10.0 COM size:  122  total resources:  4.338  time: 940", 
        "Volume 200.0 inflow 10.0 COM size:  118  total resources:  4.557  time: 960", 
        "Volume"
       ]
      }, 
      {
       "output_type": "stream", 
       "stream": "stdout", 
       "text": [
        " 200.0 inflow 10.0 COM size:  115  total resources:  4.579  time: 980", 
        "Volume 200.0 inflow 10.0 COM size:  114  total resources:  4.675  time: 1000", 
        "Volume"
       ]
      }, 
      {
       "output_type": "stream", 
       "stream": "stdout", 
       "text": [
        " 200.0 inflow 100.0 COM size:  104  total resources:  47.052  time: 500", 
        "Volume"
       ]
      }, 
      {
       "output_type": "stream", 
       "stream": "stdout", 
       "text": [
        " 200.0 inflow 100.0 COM size:  98  total resources:  46.782  time: 520", 
        "Volume"
       ]
      }, 
      {
       "output_type": "stream", 
       "stream": "stdout", 
       "text": [
        " 200.0 inflow 100.0 COM size:  101  total resources:  47.857  time: 540", 
        "Volume"
       ]
      }, 
      {
       "output_type": "stream", 
       "stream": "stdout", 
       "text": [
        " 200.0 inflow 100.0 COM size:  99  total resources:  46.432  time: 560", 
        "Volume"
       ]
      }, 
      {
       "output_type": "stream", 
       "stream": "stdout", 
       "text": [
        " 200.0 inflow 100.0 COM size:  105  total resources:  47.762  time: 580", 
        "Volume"
       ]
      }, 
      {
       "output_type": "stream", 
       "stream": "stdout", 
       "text": [
        " 200.0 inflow 100.0 COM size:  99  total resources:  48.187  time: 600", 
        "Volume"
       ]
      }, 
      {
       "output_type": "stream", 
       "stream": "stdout", 
       "text": [
        " 200.0 inflow 100.0 COM size:  102  total resources:  47.492  time: 620", 
        "Volume"
       ]
      }, 
      {
       "output_type": "stream", 
       "stream": "stdout", 
       "text": [
        " 200.0 inflow 100.0 COM size:  102  total resources:  46.406  time: 640", 
        "Volume"
       ]
      }, 
      {
       "output_type": "stream", 
       "stream": "stdout", 
       "text": [
        " 200.0 inflow 100.0 COM size:  104  total resources:  45.783  time: 660", 
        "Volume"
       ]
      }, 
      {
       "output_type": "stream", 
       "stream": "stdout", 
       "text": [
        " 200.0 inflow 100.0 COM size:  98  total resources:  48.224  time: 680", 
        "Volume"
       ]
      }, 
      {
       "output_type": "stream", 
       "stream": "stdout", 
       "text": [
        " 200.0 inflow 100.0 COM size:  101  total resources:  46.003  time: 700", 
        "Volume"
       ]
      }, 
      {
       "output_type": "stream", 
       "stream": "stdout", 
       "text": [
        " 200.0 inflow 100.0 COM size:  100  total resources:  47.376  time: 720", 
        "Volume"
       ]
      }, 
      {
       "output_type": "stream", 
       "stream": "stdout", 
       "text": [
        " 200.0 inflow 100.0 COM size:  109  total resources:  46.303  time: 740", 
        "Volume"
       ]
      }, 
      {
       "output_type": "stream", 
       "stream": "stdout", 
       "text": [
        " 200.0 inflow 100.0 COM size:  106  total resources:  47.298  time: 760", 
        "Volume"
       ]
      }, 
      {
       "output_type": "stream", 
       "stream": "stdout", 
       "text": [
        " 200.0 inflow 100.0 COM size:  107  total resources:  47.126  time: 780", 
        "Volume"
       ]
      }, 
      {
       "output_type": "stream", 
       "stream": "stdout", 
       "text": [
        " 200.0 inflow 100.0 COM size:  105  total resources:  46.847  time: 800", 
        "Volume"
       ]
      }, 
      {
       "output_type": "stream", 
       "stream": "stdout", 
       "text": [
        " 200.0 inflow 100.0 COM size:  108  total resources:  46.502  time: 820", 
        "Volume"
       ]
      }, 
      {
       "output_type": "stream", 
       "stream": "stdout", 
       "text": [
        " 200.0 inflow 100.0 COM size:  100  total resources:  46.639  time: 840", 
        "Volume"
       ]
      }, 
      {
       "output_type": "stream", 
       "stream": "stdout", 
       "text": [
        " 200.0 inflow 100.0 COM size:  104  total resources:  46.188  time: 860", 
        "Volume"
       ]
      }, 
      {
       "output_type": "stream", 
       "stream": "stdout", 
       "text": [
        " 200.0 inflow 100.0 COM size:  97  total resources:  45.432  time: 880", 
        "Volume"
       ]
      }, 
      {
       "output_type": "stream", 
       "stream": "stdout", 
       "text": [
        " 200.0 inflow 100.0 COM size:  103  total resources:  46.339  time: 900", 
        "Volume"
       ]
      }, 
      {
       "output_type": "stream", 
       "stream": "stdout", 
       "text": [
        " 200.0 inflow 100.0 COM size:  103  total resources:  47.441  time: 920", 
        "Volume"
       ]
      }, 
      {
       "output_type": "stream", 
       "stream": "stdout", 
       "text": [
        " 200.0 inflow 100.0 COM size:  102  total resources:  47.128  time: 940", 
        "Volume"
       ]
      }, 
      {
       "output_type": "stream", 
       "stream": "stdout", 
       "text": [
        " 200.0 inflow 100.0 COM size:  96  total resources:  45.607  time: 960", 
        "Volume"
       ]
      }, 
      {
       "output_type": "stream", 
       "stream": "stdout", 
       "text": [
        " 200.0 inflow 100.0 COM size:  105  total resources:  46.202  time: 980", 
        "Volume"
       ]
      }, 
      {
       "output_type": "stream", 
       "stream": "stdout", 
       "text": [
        " 200.0 inflow 100.0 COM size:  105  total resources:  46.45  time: 1000", 
        "Volume"
       ]
      }, 
      {
       "output_type": "stream", 
       "stream": "stdout", 
       "text": [
        " 300.0 inflow 10.0 COM size:  163  total resources:  4.975  time: 500", 
        "Volume 300.0 inflow 10.0 COM size:  181  total resources:  4.357  time: 520", 
        "Volume"
       ]
      }, 
      {
       "output_type": "stream", 
       "stream": "stdout", 
       "text": [
        " 300.0 inflow 10.0 COM size:  183  total resources:  4.37  time: 540", 
        "Volume 300.0 inflow 10.0 COM size:  168  total resources:  4.888  time: 560", 
        "Volume"
       ]
      }, 
      {
       "output_type": "stream", 
       "stream": "stdout", 
       "text": [
        " 300.0 inflow 10.0 COM size:  175  total resources:  4.689  time: 580", 
        "Volume 300.0 inflow 10.0 COM size:  182  total resources:  4.379  time: 600", 
        "Volume"
       ]
      }, 
      {
       "output_type": "stream", 
       "stream": "stdout", 
       "text": [
        " 300.0 inflow 10.0 COM size:  165  total resources:  4.775  time: 620", 
        "Volume 300.0 inflow 10.0 COM size:  167  total resources:  4.837  time: 640", 
        "Volume"
       ]
      }, 
      {
       "output_type": "stream", 
       "stream": "stdout", 
       "text": [
        " 300.0 inflow 10.0 COM size:  175  total resources:  4.646  time: 660", 
        "Volume 300.0 inflow 10.0 COM size:  168  total resources:  4.968  time: 680", 
        "Volume"
       ]
      }, 
      {
       "output_type": "stream", 
       "stream": "stdout", 
       "text": [
        " 300.0 inflow 10.0 COM size:  176  total resources:  4.629  time: 700", 
        "Volume 300.0 inflow 10.0 COM size:  172  total resources:  4.597  time: 720", 
        "Volume"
       ]
      }, 
      {
       "output_type": "stream", 
       "stream": "stdout", 
       "text": [
        " 300.0 inflow 10.0 COM size:  170  total resources:  4.717  time: 740", 
        "Volume 300.0 inflow 10.0 COM size:  176  total resources:  4.532  time: 760", 
        "Volume"
       ]
      }, 
      {
       "output_type": "stream", 
       "stream": "stdout", 
       "text": [
        " 300.0 inflow 10.0 COM size:  165  total resources:  5.006  time: 780", 
        "Volume 300.0 inflow 10.0 COM size:  173  total resources:  4.657  time: 800", 
        "Volume"
       ]
      }, 
      {
       "output_type": "stream", 
       "stream": "stdout", 
       "text": [
        " 300.0 inflow 10.0 COM size:  168  total resources:  4.824  time: 820", 
        "Volume 300.0 inflow 10.0 COM size:  166  total resources:  4.926  time: 840", 
        "Volume"
       ]
      }, 
      {
       "output_type": "stream", 
       "stream": "stdout", 
       "text": [
        " 300.0 inflow 10.0 COM size:  171  total resources:  4.649  time: 860", 
        "Volume 300.0 inflow 10.0 COM size:  165  total resources:  5.03  time: 880", 
        "Volume"
       ]
      }, 
      {
       "output_type": "stream", 
       "stream": "stdout", 
       "text": [
        " 300.0 inflow 10.0 COM size:  170  total resources:  4.678  time: 900", 
        "Volume 300.0 inflow 10.0 COM size:  160  total resources:  5.053  time: 920", 
        "Volume"
       ]
      }, 
      {
       "output_type": "stream", 
       "stream": "stdout", 
       "text": [
        " 300.0 inflow 10.0 COM size:  176  total resources:  4.646  time: 940", 
        "Volume 300.0 inflow 10.0 COM size:  171  total resources:  4.699  time: 960", 
        "Volume"
       ]
      }, 
      {
       "output_type": "stream", 
       "stream": "stdout", 
       "text": [
        " 300.0 inflow 10.0 COM size:  165  total resources:  4.936  time: 980", 
        "Volume 300.0 inflow 10.0 COM size:  178  total resources:  4.469  time: 1000", 
        "Volume"
       ]
      }, 
      {
       "output_type": "stream", 
       "stream": "stdout", 
       "text": [
        " 300.0 inflow 100.0 COM size:  147  total resources:  52.831  time: 500", 
        "Volume"
       ]
      }, 
      {
       "output_type": "stream", 
       "stream": "stdout", 
       "text": [
        " 300.0 inflow 100.0 COM size:  148  total resources:  52.889  time: 520", 
        "Volume"
       ]
      }, 
      {
       "output_type": "stream", 
       "stream": "stdout", 
       "text": [
        " 300.0 inflow 100.0 COM size:  142  total resources:  51.859  time: 540", 
        "Volume"
       ]
      }, 
      {
       "output_type": "stream", 
       "stream": "stdout", 
       "text": [
        " 300.0 inflow 100.0 COM size:  140  total resources:  53.762  time: 560", 
        "Volume"
       ]
      }, 
      {
       "output_type": "stream", 
       "stream": "stdout", 
       "text": [
        " 300.0 inflow 100.0 COM size:  156  total resources:  50.349  time: 580", 
        "Volume"
       ]
      }, 
      {
       "output_type": "stream", 
       "stream": "stdout", 
       "text": [
        " 300.0 inflow 100.0 COM size:  150  total resources:  52.445  time: 600", 
        "Volume"
       ]
      }, 
      {
       "output_type": "stream", 
       "stream": "stdout", 
       "text": [
        " 300.0 inflow 100.0 COM size:  151  total resources:  50.727  time: 620", 
        "Volume"
       ]
      }, 
      {
       "output_type": "stream", 
       "stream": "stdout", 
       "text": [
        " 300.0 inflow 100.0 COM size:  154  total resources:  49.24  time: 640", 
        "Volume"
       ]
      }, 
      {
       "output_type": "stream", 
       "stream": "stdout", 
       "text": [
        " 300.0 inflow 100.0 COM size:  151  total resources:  51.256  time: 660", 
        "Volume"
       ]
      }, 
      {
       "output_type": "stream", 
       "stream": "stdout", 
       "text": [
        " 300.0 inflow 100.0 COM size:  155  total resources:  50.996  time: 680", 
        "Volume"
       ]
      }, 
      {
       "output_type": "stream", 
       "stream": "stdout", 
       "text": [
        " 300.0 inflow 100.0 COM size:  151  total resources:  52.536  time: 700", 
        "Volume"
       ]
      }, 
      {
       "output_type": "stream", 
       "stream": "stdout", 
       "text": [
        " 300.0 inflow 100.0 COM size:  144  total resources:  52.676  time: 720", 
        "Volume"
       ]
      }, 
      {
       "output_type": "stream", 
       "stream": "stdout", 
       "text": [
        " 300.0 inflow 100.0 COM size:  155  total resources:  49.213  time: 740", 
        "Volume"
       ]
      }, 
      {
       "output_type": "stream", 
       "stream": "stdout", 
       "text": [
        " 300.0 inflow 100.0 COM size:  149  total resources:  49.802  time: 760", 
        "Volume"
       ]
      }, 
      {
       "output_type": "stream", 
       "stream": "stdout", 
       "text": [
        " 300.0 inflow 100.0 COM size:  149  total resources:  50.543  time: 780", 
        "Volume"
       ]
      }, 
      {
       "output_type": "stream", 
       "stream": "stdout", 
       "text": [
        " 300.0 inflow 100.0 COM size:  144  total resources:  51.321  time: 800", 
        "Volume"
       ]
      }, 
      {
       "output_type": "stream", 
       "stream": "stdout", 
       "text": [
        " 300.0 inflow 100.0 COM size:  146  total resources:  50.637  time: 820", 
        "Volume"
       ]
      }, 
      {
       "output_type": "stream", 
       "stream": "stdout", 
       "text": [
        " 300.0 inflow 100.0 COM size:  153  total resources:  49.35  time: 840", 
        "Volume"
       ]
      }, 
      {
       "output_type": "stream", 
       "stream": "stdout", 
       "text": [
        " 300.0 inflow 100.0 COM size:  152  total resources:  50.115  time: 860", 
        "Volume"
       ]
      }, 
      {
       "output_type": "stream", 
       "stream": "stdout", 
       "text": [
        " 300.0 inflow 100.0 COM size:  147  total resources:  52.481  time: 880", 
        "Volume"
       ]
      }, 
      {
       "output_type": "stream", 
       "stream": "stdout", 
       "text": [
        " 300.0 inflow 100.0 COM size:  158  total resources:  48.213  time: 900", 
        "Volume"
       ]
      }, 
      {
       "output_type": "stream", 
       "stream": "stdout", 
       "text": [
        " 300.0 inflow 100.0 COM size:  146  total resources:  53.525  time: 920", 
        "Volume"
       ]
      }, 
      {
       "output_type": "stream", 
       "stream": "stdout", 
       "text": [
        " 300.0 inflow 100.0 COM size:  136  total resources:  54.904  time: 940", 
        "Volume"
       ]
      }, 
      {
       "output_type": "stream", 
       "stream": "stdout", 
       "text": [
        " 300.0 inflow 100.0 COM size:  144  total resources:  53.289  time: 960", 
        "Volume"
       ]
      }, 
      {
       "output_type": "stream", 
       "stream": "stdout", 
       "text": [
        " 300.0 inflow 100.0 COM size:  148  total resources:  53.484  time: 980", 
        "Volume"
       ]
      }, 
      {
       "output_type": "stream", 
       "stream": "stdout", 
       "text": [
        " 300.0 inflow 100.0 COM size:  147  total resources:  52.245  time: 1000"
       ]
      }
     ], 
     "prompt_number": 75
    }, 
    {
     "cell_type": "markdown", 
     "source": [
      "### generate figures of change over time"
     ]
    }, 
    {
     "cell_type": "code", 
     "collapsed": false, 
     "input": [
      "print 'generating figures'", 
      "fig = plt.figure(figsize=(11.0,11.0))", 
      "fs = 12 # fontsize", 
      "colors = ['#7FFFD4','#458B74','#00FFFF','#6495ED','#ADFF2F','#008B00']", 
      "", 
      "ax = fig.add_subplot(2,2,1)", 
      "a = 0.3", 
      "for i, Nlist in enumerate(Nlists):", 
      "    plt.plot(tlist,Nlist,c=colors[i],label=str(ERTs[i]),alpha=a)", 
      "    plt.ylim(0,max(Nlist)+0.1*max(Nlist))", 
      "    a+=0.3", 
      "plt.xlabel(\"time\",fontsize=fs)", 
      "plt.ylabel(\"Total abundance\",fontsize=fs)", 
      "leg = plt.legend(loc=2, prop={'size':8})", 
      "leg.draw_frame(False)", 
      "", 
      "#ax = fig.add_subplot(2,2,2)", 
      "#plt.plot(tlist,Alist,c='r',label='active')", 
      "#plt.plot(tlist,Dlist,c='b',label='dormant')", 
      "#plt.xlabel(\"time\",fontsize=fs)", 
      "#plt.ylabel(\"Abundance\",fontsize=fs)", 
      "#leg = plt.legend(loc=7,prop={'size':fs})", 
      "#leg.draw_frame(False)", 
      "", 
      "ax = fig.add_subplot(2,2,2)", 
      "a = 0.3", 
      "for i, Rlist in enumerate(Rlists):", 
      "    plt.plot(tlist,Rlist,c=colors[i],label=str(ERTs[i]),alpha=a)", 
      "    a+=0.3", 
      "plt.xlabel(\"time\",fontsize=fs)", 
      "plt.ylabel(\"Resource density\",fontsize=fs)", 
      "leg = plt.legend(loc=2, prop={'size':8})", 
      "leg.draw_frame(False)", 
      "", 
      "ax = fig.add_subplot(2,2,3)", 
      "a = 0.3", 
      "for i, TRlist in enumerate(TRlists):", 
      "    plt.plot(tlist,TRlist,c=colors[i],label=str(ERTs[i]),alpha=a)", 
      "    a+=0.3", 
      "plt.xlabel(\"time\",fontsize=fs)", 
      "plt.ylabel(\"Total resources\",fontsize=fs)", 
      "leg = plt.legend(loc=2, prop={'size':8})", 
      "leg.draw_frame(False)", 
      "", 
      "plt.show"
     ], 
     "language": "python", 
     "outputs": [
      {
       "output_type": "stream", 
       "stream": "stdout", 
       "text": [
        "generating figures"
       ]
      }, 
      {
       "output_type": "pyout", 
       "prompt_number": 76, 
       "text": [
        "<function matplotlib.pyplot.show>"
       ]
      }, 
      {
       "output_type": "display_data", 
       "png": "[encoded data removed]"
      }
     ], 
     "prompt_number": 76
    }
   ]
  }
 ]
}